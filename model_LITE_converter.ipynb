{
 "cells": [
  {
   "cell_type": "code",
   "execution_count": 1,
   "id": "efe6d0e7-92c0-426b-9062-2917c7b11387",
   "metadata": {},
   "outputs": [
    {
     "name": "stderr",
     "output_type": "stream",
     "text": [
      "2025-08-02 13:36:53.821166: E external/local_xla/xla/stream_executor/cuda/cuda_fft.cc:467] Unable to register cuFFT factory: Attempting to register factory for plugin cuFFT when one has already been registered\n",
      "WARNING: All log messages before absl::InitializeLog() is called are written to STDERR\n",
      "E0000 00:00:1754134613.840804   10057 cuda_dnn.cc:8579] Unable to register cuDNN factory: Attempting to register factory for plugin cuDNN when one has already been registered\n",
      "E0000 00:00:1754134613.846591   10057 cuda_blas.cc:1407] Unable to register cuBLAS factory: Attempting to register factory for plugin cuBLAS when one has already been registered\n",
      "W0000 00:00:1754134613.861093   10057 computation_placer.cc:177] computation placer already registered. Please check linkage and avoid linking the same target more than once.\n",
      "W0000 00:00:1754134613.861117   10057 computation_placer.cc:177] computation placer already registered. Please check linkage and avoid linking the same target more than once.\n",
      "W0000 00:00:1754134613.861119   10057 computation_placer.cc:177] computation placer already registered. Please check linkage and avoid linking the same target more than once.\n",
      "W0000 00:00:1754134613.861121   10057 computation_placer.cc:177] computation placer already registered. Please check linkage and avoid linking the same target more than once.\n",
      "2025-08-02 13:36:53.865944: I tensorflow/core/platform/cpu_feature_guard.cc:210] This TensorFlow binary is optimized to use available CPU instructions in performance-critical operations.\n",
      "To enable the following instructions: AVX2 FMA, in other operations, rebuild TensorFlow with the appropriate compiler flags.\n",
      "/home/devon/anaconda3/envs/bird-id/lib/python3.11/site-packages/requests/__init__.py:86: RequestsDependencyWarning: Unable to find acceptable character detection dependency (chardet or charset_normalizer).\n",
      "  warnings.warn(\n",
      "I0000 00:00:1754134616.825183   10057 gpu_device.cc:2019] Created device /job:localhost/replica:0/task:0/device:GPU:0 with 753 MB memory:  -> device: 0, name: NVIDIA GeForce GTX 1650, pci bus id: 0000:01:00.0, compute capability: 7.5\n"
     ]
    },
    {
     "name": "stdout",
     "output_type": "stream",
     "text": [
      "INFO:tensorflow:Assets written to: /tmp/tmpd9ede0r7/assets\n"
     ]
    },
    {
     "name": "stderr",
     "output_type": "stream",
     "text": [
      "INFO:tensorflow:Assets written to: /tmp/tmpd9ede0r7/assets\n"
     ]
    },
    {
     "name": "stdout",
     "output_type": "stream",
     "text": [
      "Saved artifact at '/tmp/tmpd9ede0r7'. The following endpoints are available:\n",
      "\n",
      "* Endpoint 'serve'\n",
      "  args_0 (POSITIONAL_ONLY): TensorSpec(shape=(None, 256, 256, 3), dtype=tf.float32, name='input_layer_1')\n",
      "Output Type:\n",
      "  TensorSpec(shape=(None, 5), dtype=tf.float32, name=None)\n",
      "Captures:\n",
      "  136245987326288: TensorSpec(shape=(), dtype=tf.resource, name=None)\n",
      "  136245987327440: TensorSpec(shape=(), dtype=tf.resource, name=None)\n",
      "  136245987326864: TensorSpec(shape=(), dtype=tf.resource, name=None)\n",
      "  136245981824208: TensorSpec(shape=(), dtype=tf.resource, name=None)\n",
      "  136245987326480: TensorSpec(shape=(), dtype=tf.resource, name=None)\n",
      "  136245987326672: TensorSpec(shape=(), dtype=tf.resource, name=None)\n",
      "  136245981823632: TensorSpec(shape=(), dtype=tf.resource, name=None)\n",
      "  136245981823056: TensorSpec(shape=(), dtype=tf.resource, name=None)\n",
      "  136245981827088: TensorSpec(shape=(), dtype=tf.resource, name=None)\n",
      "  136245981827280: TensorSpec(shape=(), dtype=tf.resource, name=None)\n",
      "  136245981826512: TensorSpec(shape=(), dtype=tf.resource, name=None)\n",
      "  136245981825936: TensorSpec(shape=(), dtype=tf.resource, name=None)\n",
      "  136245981827664: TensorSpec(shape=(), dtype=tf.resource, name=None)\n",
      "  136245981827472: TensorSpec(shape=(), dtype=tf.resource, name=None)\n",
      "  136245981828624: TensorSpec(shape=(), dtype=tf.resource, name=None)\n",
      "  136245981828816: TensorSpec(shape=(), dtype=tf.resource, name=None)\n",
      "  136245981826320: TensorSpec(shape=(), dtype=tf.resource, name=None)\n",
      "  136245981824784: TensorSpec(shape=(), dtype=tf.resource, name=None)\n",
      "  136245981828432: TensorSpec(shape=(), dtype=tf.resource, name=None)\n",
      "  136245981826896: TensorSpec(shape=(), dtype=tf.resource, name=None)\n",
      "  136245981829584: TensorSpec(shape=(), dtype=tf.resource, name=None)\n",
      "  136245981830544: TensorSpec(shape=(), dtype=tf.resource, name=None)\n",
      "  136245981830352: TensorSpec(shape=(), dtype=tf.resource, name=None)\n",
      "  136245981829776: TensorSpec(shape=(), dtype=tf.resource, name=None)\n",
      "  136245981829968: TensorSpec(shape=(), dtype=tf.resource, name=None)\n",
      "  136245981826704: TensorSpec(shape=(), dtype=tf.resource, name=None)\n",
      "  136245981826128: TensorSpec(shape=(), dtype=tf.resource, name=None)\n",
      "  136245981831312: TensorSpec(shape=(), dtype=tf.resource, name=None)\n"
     ]
    },
    {
     "name": "stderr",
     "output_type": "stream",
     "text": [
      "WARNING: All log messages before absl::InitializeLog() is called are written to STDERR\n",
      "W0000 00:00:1754134619.049038   10057 tf_tfl_flatbuffer_helpers.cc:365] Ignored output_format.\n",
      "W0000 00:00:1754134619.049067   10057 tf_tfl_flatbuffer_helpers.cc:368] Ignored drop_control_dependency.\n",
      "2025-08-02 13:36:59.049722: I tensorflow/cc/saved_model/reader.cc:83] Reading SavedModel from: /tmp/tmpd9ede0r7\n",
      "2025-08-02 13:36:59.051454: I tensorflow/cc/saved_model/reader.cc:52] Reading meta graph with tags { serve }\n",
      "2025-08-02 13:36:59.051482: I tensorflow/cc/saved_model/reader.cc:147] Reading SavedModel debug info (if present) from: /tmp/tmpd9ede0r7\n",
      "I0000 00:00:1754134619.065715   10057 mlir_graph_optimization_pass.cc:425] MLIR V1 optimization pass is not enabled\n",
      "2025-08-02 13:36:59.068820: I tensorflow/cc/saved_model/loader.cc:236] Restoring SavedModel bundle.\n",
      "2025-08-02 13:36:59.166027: I tensorflow/cc/saved_model/loader.cc:220] Running initialization op on SavedModel bundle at path: /tmp/tmpd9ede0r7\n",
      "2025-08-02 13:36:59.189480: I tensorflow/cc/saved_model/loader.cc:471] SavedModel load for tags { serve }; Status: success: OK. Took 139764 microseconds.\n",
      "2025-08-02 13:36:59.220043: I tensorflow/compiler/mlir/tensorflow/utils/dump_mlir_util.cc:269] disabling MLIR crash reproducer, set env var `MLIR_CRASH_REPRODUCER_DIRECTORY` to enable.\n"
     ]
    },
    {
     "data": {
      "text/plain": [
       "446016"
      ]
     },
     "execution_count": 1,
     "metadata": {},
     "output_type": "execute_result"
    }
   ],
   "source": [
    "import tensorflow as tf\n",
    "m = tf.keras.models.load_model(\"5-Species-Identifier/5_Species_cnn_2025_07_30.keras\")\n",
    "conv = tf.lite.TFLiteConverter.from_keras_model(m)\n",
    "conv.optimizations = [tf.lite.Optimize.DEFAULT]\n",
    "open(\"birds5species.tflite\",\"wb\").write(conv.convert())"
   ]
  },
  {
   "cell_type": "code",
   "execution_count": null,
   "id": "6b2a08e1-bdd0-494f-8521-5a9548a8bdf3",
   "metadata": {},
   "outputs": [],
   "source": []
  }
 ],
 "metadata": {
  "kernelspec": {
   "display_name": "Python 3 (ipykernel)",
   "language": "python",
   "name": "python3"
  },
  "language_info": {
   "codemirror_mode": {
    "name": "ipython",
    "version": 3
   },
   "file_extension": ".py",
   "mimetype": "text/x-python",
   "name": "python",
   "nbconvert_exporter": "python",
   "pygments_lexer": "ipython3",
   "version": "3.11.13"
  }
 },
 "nbformat": 4,
 "nbformat_minor": 5
}
